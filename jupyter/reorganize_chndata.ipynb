{
 "cells": [
  {
   "cell_type": "code",
   "execution_count": 20,
   "metadata": {},
   "outputs": [],
   "source": [
    "import pandas as pd\n",
    "import h5py\n",
    "import os\n",
    "from tqdm import tqdm_notebook as tqdm"
   ]
  },
  {
   "cell_type": "code",
   "execution_count": 2,
   "metadata": {},
   "outputs": [
    {
     "name": "stdout",
     "output_type": "stream",
     "text": [
      "/Share/home/chenxupeng/projects/economics\n"
     ]
    }
   ],
   "source": [
    "cd /Share/home/chenxupeng/projects/economics/"
   ]
  },
  {
   "cell_type": "code",
   "execution_count": 3,
   "metadata": {},
   "outputs": [],
   "source": [
    "countrys = np.array(['AUS', 'AUT', 'BEL', 'BGR', 'BRA', 'CAN', 'CHN', 'CYP', 'CZE',\n",
    "       'DEU', 'DNK', 'ESP','EST', 'FIN', 'FRA', 'GBR', 'GRC', 'HUN', 'IDN',\n",
    "       'IND', 'IRL', 'ITA', 'JPN', 'KOR', 'LTU', 'LUX', 'LVA', 'MEX',\n",
    "       'MLT', 'NLD', 'POL', 'PRT', 'ROM', 'RUS', 'SVK', 'SVN', 'SWE',\n",
    "       'TUR', 'TWN', 'USA', 'RoW'])\n",
    "indexnames = ['L3_1_DVA_FIN','L3_4_RDV','L3_6_FVA_INT','L3_2_DVA_INT',\n",
    "              'L3_5_FVA_FIN','L3_7_DDC','L3_3_DVA_INTrex','L3_5_MVA','L3_8_FDC']\n",
    "years = np.arange(1995,2012).astype('str')"
   ]
  },
  {
   "cell_type": "markdown",
   "metadata": {},
   "source": [
    "2*17*9*41*(35*35)\n",
    "to chn\n",
    "    year\n",
    "        coutry\n",
    "            index\n",
    "chn to \n",
    "    year\n",
    "        coutry\n",
    "            index"
   ]
  },
  {
   "cell_type": "code",
   "execution_count": 43,
   "metadata": {},
   "outputs": [],
   "source": [
    "def get_data(indexname,year,country,option):\n",
    "    '''\n",
    "    index \n",
    "    year \n",
    "    country you want like USA\n",
    "    option :tochn or chnto\n",
    "    2*17*9*41\n",
    "    '''\n",
    "    if option == 'tochn':\n",
    "        if os.path.exists('out/'+year+'/'+year+'_'+indexname+'_tochn.csv'):\n",
    "            data = pd.read_csv('out/'+year+'/'+year+'_'+indexname+'_tochn.csv')\n",
    "            ind =np.where(country==countrys)[0][0]\n",
    "            dat = np.array(data.iloc[:,35*ind+1:35*(ind+1)+1])\n",
    "            return True,dat, 'year: '+year+', indicator: '+indexname  +', country: '+country+' '+option,opt+'/'+year+'/'+country+'/'+index\n",
    "        else:\n",
    "            #print 'no such file: '+ 'out/'+year+'/'+year+'_'+indexname+'_tochn.csv'\n",
    "            return False,'no such file: '+ 'out/'+year+'/'+year+'_'+indexname+'_chnto.csv'\n",
    "    elif option =='chnto':\n",
    "        if os.path.exists('out/'+year+'/'+year+'_'+indexname+'_chnto.csv'):\n",
    "            data = pd.read_csv('out/'+year+'/'+year+'_'+indexname+'_chnto.csv')\n",
    "            ind =np.where(country==countrys)[0][0]\n",
    "            dat = np.array(data.iloc[:,35*ind+1:35*(ind+1)+1])\n",
    "            return True,dat, 'year: '+year+', indicator: '+indexname  +', country: '+country+' '+option,opt+'/'+year+'/'+country+'/'+index\n",
    "        else:\n",
    "            #print 'no such file: '+ 'out/'+year+'/'+year+'_'+indexname+'_chnto.csv'\n",
    "            return False,'no such file: '+ 'out/'+year+'/'+year+'_'+indexname+'_chnto.csv'"
   ]
  },
  {
   "cell_type": "code",
   "execution_count": 36,
   "metadata": {},
   "outputs": [
    {
     "data": {
      "text/plain": [
       "False"
      ]
     },
     "execution_count": 36,
     "metadata": {},
     "output_type": "execute_result"
    }
   ],
   "source": [
    "get_data(index,year,country,'tochn')[0]"
   ]
  },
  {
   "cell_type": "code",
   "execution_count": 42,
   "metadata": {},
   "outputs": [
    {
     "data": {
      "text/plain": [
       "array([[  1.90905557e+01,   1.19430321e-02,   2.01757813e+00, ...,\n",
       "          5.30062508e-05,   2.35545039e-03,   0.00000000e+00],\n",
       "       [  4.23728728e-01,   1.30431714e+01,   1.19100297e-01, ...,\n",
       "          5.30282035e-05,   4.29320213e-03,   0.00000000e+00],\n",
       "       [  8.71521431e-01,   8.16226639e-03,   4.30778097e+00, ...,\n",
       "          9.38582866e-05,   2.27704653e-03,   0.00000000e+00],\n",
       "       ..., \n",
       "       [  2.88496708e-03,   1.36754166e-03,   1.26546907e-03, ...,\n",
       "          9.79827926e-03,   1.36560684e-03,   0.00000000e+00],\n",
       "       [  2.23636839e-01,   1.43070819e-01,   1.47391827e-01, ...,\n",
       "          1.81869451e-04,   8.68167898e-01,   0.00000000e+00],\n",
       "       [  6.24949282e-03,   2.60943685e-03,   3.28098742e-03, ...,\n",
       "          3.72204796e-06,   7.11690072e-04,   0.00000000e+00]])"
      ]
     },
     "execution_count": 42,
     "metadata": {},
     "output_type": "execute_result"
    }
   ],
   "source": [
    "get_data('L3_4_RDV','1997','USA','tochn')[0]"
   ]
  },
  {
   "cell_type": "code",
   "execution_count": null,
   "metadata": {},
   "outputs": [],
   "source": [
    "with h5py.File('wholedata') as f:\n",
    "    for opt in tqdm(['tochn','chnto']):\n",
    "        for year in tqdm(years):\n",
    "            for country in tqdm(countrys):\n",
    "                for index in indexnames:\n",
    "                    if get_data(index,year,country,'tochn')[0]:\n",
    "                        f.create_dataset(get_data(index,year,country,'tochn')[3],data=get_data(index,year,country,'tochn')[1])\n",
    "                    else:\n",
    "                        get_data(index,year,country,'tochn')[1]"
   ]
  },
  {
   "cell_type": "code",
   "execution_count": 47,
   "metadata": {},
   "outputs": [],
   "source": [
    "f= h5py.File('wholedata')"
   ]
  },
  {
   "cell_type": "code",
   "execution_count": 54,
   "metadata": {},
   "outputs": [
    {
     "name": "stdout",
     "output_type": "stream",
     "text": [
      "[u'chnto', u'tochn']\n",
      "[u'1995', u'1996', u'1997', u'1998', u'1999', u'2000', u'2001', u'2002', u'2003', u'2004', u'2005', u'2006', u'2007', u'2008', u'2009', u'2010', u'2011']\n",
      "[u'AUS', u'AUT', u'BEL', u'BGR', u'BRA', u'CAN', u'CHN', u'CYP', u'CZE', u'DEU', u'DNK', u'ESP', u'EST', u'FIN', u'FRA', u'GBR', u'GRC', u'HUN', u'IDN', u'IND', u'IRL', u'ITA', u'JPN', u'KOR', u'LTU', u'LUX', u'LVA', u'MEX', u'MLT', u'NLD', u'POL', u'PRT', u'ROM', u'RUS', u'RoW', u'SVK', u'SVN', u'SWE', u'TUR', u'TWN', u'USA']\n",
      "[u'L3_1_DVA_FIN', u'L3_2_DVA_INT', u'L3_3_DVA_INTrex', u'L3_4_RDV', u'L3_5_FVA_FIN', u'L3_5_MVA', u'L3_6_FVA_INT', u'L3_7_DDC', u'L3_8_FDC']\n",
      "[[  9.91856573e+01   8.79569235e-04   1.71971134e+01 ...,   9.97958326e-02\n",
      "    4.45876994e-02   0.00000000e+00]\n",
      " [  1.26328388e+00   3.72879432e-01   1.16701171e+00 ...,   2.19925256e-01\n",
      "    2.45472827e-02   0.00000000e+00]\n",
      " [  2.23681027e+00   5.27191496e-04   3.74926157e+01 ...,   6.23488528e-02\n",
      "    1.25479759e-02   0.00000000e+00]\n",
      " ..., \n",
      " [  3.31129605e-01   8.59530299e-04   1.97718944e-01 ...,   5.32644283e+01\n",
      "    7.82339865e-03   0.00000000e+00]\n",
      " [  4.78708000e-01   3.80124746e-03   5.97790291e-01 ...,   1.96290742e-01\n",
      "    1.36567650e+00   0.00000000e+00]\n",
      " [  0.00000000e+00   0.00000000e+00   0.00000000e+00 ...,   0.00000000e+00\n",
      "    0.00000000e+00   0.00000000e+00]]\n"
     ]
    }
   ],
   "source": [
    "print f.keys()\n",
    "print f['chnto'].keys()\n",
    "print f['chnto/1995'].keys()\n",
    "print f['chnto/1995/AUS'].keys()\n",
    "print f['chnto/1995/AUS/L3_1_DVA_FIN'][:]"
   ]
  },
  {
   "cell_type": "code",
   "execution_count": 57,
   "metadata": {},
   "outputs": [],
   "source": [
    "def getdat_fromhdf5(opt,year,coutry,index):\n",
    "    return f[opt+'/'+year+'/'+country+'/'+index][:]"
   ]
  },
  {
   "cell_type": "code",
   "execution_count": 60,
   "metadata": {},
   "outputs": [
    {
     "data": {
      "text/plain": [
       "array([[  6.72365456e+01,   7.08533153e-04,   2.71949900e+01, ...,\n",
       "          5.32219608e-02,   1.09987695e-01,   0.00000000e+00],\n",
       "       [  6.87619978e-01,   2.31520806e-01,   1.50091529e+00, ...,\n",
       "          7.98102905e-02,   5.18486376e-02,   0.00000000e+00],\n",
       "       [  1.00094795e+00,   4.37471298e-04,   4.65712995e+01, ...,\n",
       "          3.87772644e-02,   3.53947067e-02,   0.00000000e+00],\n",
       "       ..., \n",
       "       [  1.22262152e-01,   9.37842192e-05,   2.02495924e-01, ...,\n",
       "          2.57068029e+01,   1.32501406e-02,   0.00000000e+00],\n",
       "       [  2.71122209e-01,   1.29684711e-03,   7.80605613e-01, ...,\n",
       "          2.05371058e-01,   4.40198349e+00,   0.00000000e+00],\n",
       "       [  0.00000000e+00,   0.00000000e+00,   0.00000000e+00, ...,\n",
       "          0.00000000e+00,   0.00000000e+00,   0.00000000e+00]])"
      ]
     },
     "execution_count": 60,
     "metadata": {},
     "output_type": "execute_result"
    }
   ],
   "source": [
    "getdat_fromhdf5('chnto','2001','USA',indexnames[0])"
   ]
  },
  {
   "cell_type": "code",
   "execution_count": 62,
   "metadata": {},
   "outputs": [
    {
     "data": {
      "application/vnd.jupyter.widget-view+json": {
       "model_id": "23cf08b833054e0a86b769bc98457177",
       "version_major": 2,
       "version_minor": 0
      },
      "text/html": [
       "<p>Failed to display Jupyter Widget of type <code>HBox</code>.</p>\n",
       "<p>\n",
       "  If you're reading this message in the Jupyter Notebook or JupyterLab Notebook, it may mean\n",
       "  that the widgets JavaScript is still loading. If this message persists, it\n",
       "  likely means that the widgets JavaScript library is either not installed or\n",
       "  not enabled. See the <a href=\"https://ipywidgets.readthedocs.io/en/stable/user_install.html\">Jupyter\n",
       "  Widgets Documentation</a> for setup instructions.\n",
       "</p>\n",
       "<p>\n",
       "  If you're reading this message in another frontend (for example, a static\n",
       "  rendering on GitHub or <a href=\"https://nbviewer.jupyter.org/\">NBViewer</a>),\n",
       "  it may mean that your frontend doesn't currently support widgets.\n",
       "</p>\n"
      ],
      "text/plain": [
       "HBox(children=(IntProgress(value=0, max=2), HTML(value=u'')))"
      ]
     },
     "metadata": {},
     "output_type": "display_data"
    },
    {
     "data": {
      "application/vnd.jupyter.widget-view+json": {
       "model_id": "f0e23844cd4c48709baceef44bfc4bd0",
       "version_major": 2,
       "version_minor": 0
      },
      "text/html": [
       "<p>Failed to display Jupyter Widget of type <code>HBox</code>.</p>\n",
       "<p>\n",
       "  If you're reading this message in the Jupyter Notebook or JupyterLab Notebook, it may mean\n",
       "  that the widgets JavaScript is still loading. If this message persists, it\n",
       "  likely means that the widgets JavaScript library is either not installed or\n",
       "  not enabled. See the <a href=\"https://ipywidgets.readthedocs.io/en/stable/user_install.html\">Jupyter\n",
       "  Widgets Documentation</a> for setup instructions.\n",
       "</p>\n",
       "<p>\n",
       "  If you're reading this message in another frontend (for example, a static\n",
       "  rendering on GitHub or <a href=\"https://nbviewer.jupyter.org/\">NBViewer</a>),\n",
       "  it may mean that your frontend doesn't currently support widgets.\n",
       "</p>\n"
      ],
      "text/plain": [
       "HBox(children=(IntProgress(value=0, max=17), HTML(value=u'')))"
      ]
     },
     "metadata": {},
     "output_type": "display_data"
    },
    {
     "data": {
      "application/vnd.jupyter.widget-view+json": {
       "model_id": "d5ab4216282441fe9c15cdaedcecb95a",
       "version_major": 2,
       "version_minor": 0
      },
      "text/html": [
       "<p>Failed to display Jupyter Widget of type <code>HBox</code>.</p>\n",
       "<p>\n",
       "  If you're reading this message in the Jupyter Notebook or JupyterLab Notebook, it may mean\n",
       "  that the widgets JavaScript is still loading. If this message persists, it\n",
       "  likely means that the widgets JavaScript library is either not installed or\n",
       "  not enabled. See the <a href=\"https://ipywidgets.readthedocs.io/en/stable/user_install.html\">Jupyter\n",
       "  Widgets Documentation</a> for setup instructions.\n",
       "</p>\n",
       "<p>\n",
       "  If you're reading this message in another frontend (for example, a static\n",
       "  rendering on GitHub or <a href=\"https://nbviewer.jupyter.org/\">NBViewer</a>),\n",
       "  it may mean that your frontend doesn't currently support widgets.\n",
       "</p>\n"
      ],
      "text/plain": [
       "HBox(children=(IntProgress(value=0, max=17), HTML(value=u'')))"
      ]
     },
     "metadata": {},
     "output_type": "display_data"
    },
    {
     "name": "stdout",
     "output_type": "stream",
     "text": [
      "\n",
      "('Time used:', 4.990000000000009)\n"
     ]
    }
   ],
   "source": [
    "import time\n",
    " \n",
    "start = time.clock()\n",
    "for opt in tqdm(['tochn','chnto']):\n",
    "    for year in tqdm(years):\n",
    "        for country in countrys:\n",
    "            for index in indexnames:\n",
    "                getdat_fromhdf5('chnto','2001','USA',indexnames[0])\n",
    "                \n",
    "elapsed = (time.clock() - start)\n",
    "print(\"Time used:\",elapsed)"
   ]
  },
  {
   "cell_type": "code",
   "execution_count": null,
   "metadata": {},
   "outputs": [],
   "source": []
  }
 ],
 "metadata": {
  "anaconda-cloud": {},
  "kernelspec": {
   "display_name": "Python [conda root]",
   "language": "python",
   "name": "conda-root-py"
  },
  "language_info": {
   "codemirror_mode": {
    "name": "ipython",
    "version": 2
   },
   "file_extension": ".py",
   "mimetype": "text/x-python",
   "name": "python",
   "nbconvert_exporter": "python",
   "pygments_lexer": "ipython2",
   "version": "2.7.14"
  }
 },
 "nbformat": 4,
 "nbformat_minor": 2
}
